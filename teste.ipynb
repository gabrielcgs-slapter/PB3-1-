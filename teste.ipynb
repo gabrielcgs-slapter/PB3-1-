{
 "cells": [
  {
   "cell_type": "code",
   "execution_count": 1,
   "metadata": {},
   "outputs": [
    {
     "name": "stdout",
     "output_type": "stream",
     "text": [
      "Hora de início: 2025-02-24 09:55\n",
      "Abrindo Plataforma Brasil\n"
     ]
    },
    {
     "ename": "ElementClickInterceptedException",
     "evalue": "Message: element click intercepted: Element <input type=\"submit\" name=\"j_id19:j_id24\" value=\"LOGIN\" alt=\"Clique aqui para acessar\" onclick=\"Richfaces.showModalPanel('ajaxStatusMPLogin')\" style=\"width:60px;\" title=\"Clique aqui para acessar\" class=\"buttomLoginDashboard\" tabindex=\"0\"> is not clickable at point (1811, 115). Other element would receive the click: <div class=\"rich-mpnl-mask-div-opaque rich-mpnl-mask-div\" id=\"idModalBloqueioDiv\" style=\"z-index: -1;\">...</div>\n  (Session info: chrome=133.0.6943.127)\nStacktrace:\n\tGetHandleVerifier [0x00FB0283+25139]\n\t(No symbol) [0x00F3B234]\n\t(No symbol) [0x00E104A3]\n\t(No symbol) [0x00E5E5D0]\n\t(No symbol) [0x00E5C984]\n\t(No symbol) [0x00E5A517]\n\t(No symbol) [0x00E597D4]\n\t(No symbol) [0x00E4DE55]\n\t(No symbol) [0x00E7CF3C]\n\t(No symbol) [0x00E4D8E4]\n\t(No symbol) [0x00E7D1B4]\n\t(No symbol) [0x00E9E6E1]\n\t(No symbol) [0x00E7CD36]\n\t(No symbol) [0x00E4BD29]\n\t(No symbol) [0x00E4D064]\n\tGetHandleVerifier [0x012BB143+3215603]\n\tGetHandleVerifier [0x012D22BA+3310186]\n\tGetHandleVerifier [0x012CC4D2+3286146]\n\tGetHandleVerifier [0x01049C80+654384]\n\t(No symbol) [0x00F445BD]\n\t(No symbol) [0x00F414A8]\n\t(No symbol) [0x00F41647]\n\t(No symbol) [0x00F33D20]\n\tBaseThreadInitThunk [0x75526839+25]\n\tRtlGetFullPathName_UEx [0x7716906F+1215]\n\tRtlGetFullPathName_UEx [0x7716903D+1165]\n",
     "output_type": "error",
     "traceback": [
      "\u001b[1;31m---------------------------------------------------------------------------\u001b[0m",
      "\u001b[1;31mElementClickInterceptedException\u001b[0m          Traceback (most recent call last)",
      "Cell \u001b[1;32mIn[1], line 53\u001b[0m\n\u001b[0;32m     50\u001b[0m driver\u001b[38;5;241m.\u001b[39mfind_element(By\u001b[38;5;241m.\u001b[39mXPATH,\u001b[38;5;124m'\u001b[39m\u001b[38;5;124m//*[@id=\u001b[39m\u001b[38;5;124m\"\u001b[39m\u001b[38;5;124mj_id19:senha\u001b[39m\u001b[38;5;124m\"\u001b[39m\u001b[38;5;124m]\u001b[39m\u001b[38;5;124m'\u001b[39m)\u001b[38;5;241m.\u001b[39mclear() \u001b[38;5;66;03m# senha\u001b[39;00m\n\u001b[0;32m     51\u001b[0m driver\u001b[38;5;241m.\u001b[39mfind_element(By\u001b[38;5;241m.\u001b[39mXPATH,\u001b[38;5;124m'\u001b[39m\u001b[38;5;124m//*[@id=\u001b[39m\u001b[38;5;124m\"\u001b[39m\u001b[38;5;124mj_id19:senha\u001b[39m\u001b[38;5;124m\"\u001b[39m\u001b[38;5;124m]\u001b[39m\u001b[38;5;124m'\u001b[39m)\u001b[38;5;241m.\u001b[39msend_keys(\u001b[38;5;124m'\u001b[39m\u001b[38;5;124m0Dije!c!\u001b[39m\u001b[38;5;124m'\u001b[39m) \u001b[38;5;66;03m# senha\u001b[39;00m\n\u001b[1;32m---> 53\u001b[0m \u001b[43mdriver\u001b[49m\u001b[38;5;241;43m.\u001b[39;49m\u001b[43mfind_element\u001b[49m\u001b[43m(\u001b[49m\u001b[43mBy\u001b[49m\u001b[38;5;241;43m.\u001b[39;49m\u001b[43mXPATH\u001b[49m\u001b[43m,\u001b[49m\u001b[43m \u001b[49m\u001b[38;5;124;43m'\u001b[39;49m\u001b[38;5;124;43m//*[@id=\u001b[39;49m\u001b[38;5;124;43m\"\u001b[39;49m\u001b[38;5;124;43mj_id19\u001b[39;49m\u001b[38;5;124;43m\"\u001b[39;49m\u001b[38;5;124;43m]/input[4]\u001b[39;49m\u001b[38;5;124;43m'\u001b[39;49m\u001b[43m)\u001b[49m\u001b[38;5;241;43m.\u001b[39;49m\u001b[43mclick\u001b[49m\u001b[43m(\u001b[49m\u001b[43m)\u001b[49m \u001b[38;5;66;03m# logar\u001b[39;00m\n\u001b[0;32m     55\u001b[0m \u001b[38;5;28;01mtry\u001b[39;00m:   \n\u001b[0;32m     56\u001b[0m     driver\u001b[38;5;241m.\u001b[39mfind_element(By\u001b[38;5;241m.\u001b[39mXPATH, \u001b[38;5;124m'\u001b[39m\u001b[38;5;124m//*[@id=\u001b[39m\u001b[38;5;124m\"\u001b[39m\u001b[38;5;124mformModalMsgUsuarioLogado:idBotaoInvalidarUsuarioLogado\u001b[39m\u001b[38;5;124m\"\u001b[39m\u001b[38;5;124m]\u001b[39m\u001b[38;5;124m'\u001b[39m)\u001b[38;5;241m.\u001b[39mclick()\n",
      "File \u001b[1;32mc:\\Users\\Gabriel.calazans\\AppData\\Local\\Programs\\Python\\Python312\\Lib\\site-packages\\selenium\\webdriver\\remote\\webelement.py:94\u001b[0m, in \u001b[0;36mWebElement.click\u001b[1;34m(self)\u001b[0m\n\u001b[0;32m     92\u001b[0m \u001b[38;5;28;01mdef\u001b[39;00m \u001b[38;5;21mclick\u001b[39m(\u001b[38;5;28mself\u001b[39m) \u001b[38;5;241m-\u001b[39m\u001b[38;5;241m>\u001b[39m \u001b[38;5;28;01mNone\u001b[39;00m:\n\u001b[0;32m     93\u001b[0m \u001b[38;5;250m    \u001b[39m\u001b[38;5;124;03m\"\"\"Clicks the element.\"\"\"\u001b[39;00m\n\u001b[1;32m---> 94\u001b[0m     \u001b[38;5;28;43mself\u001b[39;49m\u001b[38;5;241;43m.\u001b[39;49m\u001b[43m_execute\u001b[49m\u001b[43m(\u001b[49m\u001b[43mCommand\u001b[49m\u001b[38;5;241;43m.\u001b[39;49m\u001b[43mCLICK_ELEMENT\u001b[49m\u001b[43m)\u001b[49m\n",
      "File \u001b[1;32mc:\\Users\\Gabriel.calazans\\AppData\\Local\\Programs\\Python\\Python312\\Lib\\site-packages\\selenium\\webdriver\\remote\\webelement.py:395\u001b[0m, in \u001b[0;36mWebElement._execute\u001b[1;34m(self, command, params)\u001b[0m\n\u001b[0;32m    393\u001b[0m     params \u001b[38;5;241m=\u001b[39m {}\n\u001b[0;32m    394\u001b[0m params[\u001b[38;5;124m\"\u001b[39m\u001b[38;5;124mid\u001b[39m\u001b[38;5;124m\"\u001b[39m] \u001b[38;5;241m=\u001b[39m \u001b[38;5;28mself\u001b[39m\u001b[38;5;241m.\u001b[39m_id\n\u001b[1;32m--> 395\u001b[0m \u001b[38;5;28;01mreturn\u001b[39;00m \u001b[38;5;28;43mself\u001b[39;49m\u001b[38;5;241;43m.\u001b[39;49m\u001b[43m_parent\u001b[49m\u001b[38;5;241;43m.\u001b[39;49m\u001b[43mexecute\u001b[49m\u001b[43m(\u001b[49m\u001b[43mcommand\u001b[49m\u001b[43m,\u001b[49m\u001b[43m \u001b[49m\u001b[43mparams\u001b[49m\u001b[43m)\u001b[49m\n",
      "File \u001b[1;32mc:\\Users\\Gabriel.calazans\\AppData\\Local\\Programs\\Python\\Python312\\Lib\\site-packages\\selenium\\webdriver\\remote\\webdriver.py:354\u001b[0m, in \u001b[0;36mWebDriver.execute\u001b[1;34m(self, driver_command, params)\u001b[0m\n\u001b[0;32m    352\u001b[0m response \u001b[38;5;241m=\u001b[39m \u001b[38;5;28mself\u001b[39m\u001b[38;5;241m.\u001b[39mcommand_executor\u001b[38;5;241m.\u001b[39mexecute(driver_command, params)\n\u001b[0;32m    353\u001b[0m \u001b[38;5;28;01mif\u001b[39;00m response:\n\u001b[1;32m--> 354\u001b[0m     \u001b[38;5;28;43mself\u001b[39;49m\u001b[38;5;241;43m.\u001b[39;49m\u001b[43merror_handler\u001b[49m\u001b[38;5;241;43m.\u001b[39;49m\u001b[43mcheck_response\u001b[49m\u001b[43m(\u001b[49m\u001b[43mresponse\u001b[49m\u001b[43m)\u001b[49m\n\u001b[0;32m    355\u001b[0m     response[\u001b[38;5;124m\"\u001b[39m\u001b[38;5;124mvalue\u001b[39m\u001b[38;5;124m\"\u001b[39m] \u001b[38;5;241m=\u001b[39m \u001b[38;5;28mself\u001b[39m\u001b[38;5;241m.\u001b[39m_unwrap_value(response\u001b[38;5;241m.\u001b[39mget(\u001b[38;5;124m\"\u001b[39m\u001b[38;5;124mvalue\u001b[39m\u001b[38;5;124m\"\u001b[39m, \u001b[38;5;28;01mNone\u001b[39;00m))\n\u001b[0;32m    356\u001b[0m     \u001b[38;5;28;01mreturn\u001b[39;00m response\n",
      "File \u001b[1;32mc:\\Users\\Gabriel.calazans\\AppData\\Local\\Programs\\Python\\Python312\\Lib\\site-packages\\selenium\\webdriver\\remote\\errorhandler.py:229\u001b[0m, in \u001b[0;36mErrorHandler.check_response\u001b[1;34m(self, response)\u001b[0m\n\u001b[0;32m    227\u001b[0m         alert_text \u001b[38;5;241m=\u001b[39m value[\u001b[38;5;124m\"\u001b[39m\u001b[38;5;124malert\u001b[39m\u001b[38;5;124m\"\u001b[39m]\u001b[38;5;241m.\u001b[39mget(\u001b[38;5;124m\"\u001b[39m\u001b[38;5;124mtext\u001b[39m\u001b[38;5;124m\"\u001b[39m)\n\u001b[0;32m    228\u001b[0m     \u001b[38;5;28;01mraise\u001b[39;00m exception_class(message, screen, stacktrace, alert_text)  \u001b[38;5;66;03m# type: ignore[call-arg]  # mypy is not smart enough here\u001b[39;00m\n\u001b[1;32m--> 229\u001b[0m \u001b[38;5;28;01mraise\u001b[39;00m exception_class(message, screen, stacktrace)\n",
      "\u001b[1;31mElementClickInterceptedException\u001b[0m: Message: element click intercepted: Element <input type=\"submit\" name=\"j_id19:j_id24\" value=\"LOGIN\" alt=\"Clique aqui para acessar\" onclick=\"Richfaces.showModalPanel('ajaxStatusMPLogin')\" style=\"width:60px;\" title=\"Clique aqui para acessar\" class=\"buttomLoginDashboard\" tabindex=\"0\"> is not clickable at point (1811, 115). Other element would receive the click: <div class=\"rich-mpnl-mask-div-opaque rich-mpnl-mask-div\" id=\"idModalBloqueioDiv\" style=\"z-index: -1;\">...</div>\n  (Session info: chrome=133.0.6943.127)\nStacktrace:\n\tGetHandleVerifier [0x00FB0283+25139]\n\t(No symbol) [0x00F3B234]\n\t(No symbol) [0x00E104A3]\n\t(No symbol) [0x00E5E5D0]\n\t(No symbol) [0x00E5C984]\n\t(No symbol) [0x00E5A517]\n\t(No symbol) [0x00E597D4]\n\t(No symbol) [0x00E4DE55]\n\t(No symbol) [0x00E7CF3C]\n\t(No symbol) [0x00E4D8E4]\n\t(No symbol) [0x00E7D1B4]\n\t(No symbol) [0x00E9E6E1]\n\t(No symbol) [0x00E7CD36]\n\t(No symbol) [0x00E4BD29]\n\t(No symbol) [0x00E4D064]\n\tGetHandleVerifier [0x012BB143+3215603]\n\tGetHandleVerifier [0x012D22BA+3310186]\n\tGetHandleVerifier [0x012CC4D2+3286146]\n\tGetHandleVerifier [0x01049C80+654384]\n\t(No symbol) [0x00F445BD]\n\t(No symbol) [0x00F414A8]\n\t(No symbol) [0x00F41647]\n\t(No symbol) [0x00F33D20]\n\tBaseThreadInitThunk [0x75526839+25]\n\tRtlGetFullPathName_UEx [0x7716906F+1215]\n\tRtlGetFullPathName_UEx [0x7716903D+1165]\n"
     ]
    }
   ],
   "source": [
    "from webdriver_manager.chrome import ChromeDriverManager\n",
    "from selenium.webdriver.chrome.service import Service\n",
    "from selenium.webdriver.chrome.options import Options\n",
    "from selenium.webdriver.support.ui import WebDriverWait\n",
    "from selenium.webdriver.support import expected_conditions as EC\n",
    "from selenium.webdriver.common.by import By\n",
    "from selenium import webdriver\n",
    "from bs4 import BeautifulSoup\n",
    "import pandas as pd\n",
    "import time\n",
    "from selenium.webdriver.common.keys import Keys\n",
    "import csv\n",
    "import datetime\n",
    "import os\n",
    "import pytz\n",
    "import smtplib\n",
    "import email.message\n",
    "\n",
    "\n",
    "options = Options()\n",
    "options.add_experimental_option(\"detach\", True)  \n",
    "options.add_argument(\"--disable-dev-shm-usage\")  # Melhora estabilidade\n",
    "options.add_argument(\"--disable-extensions\")  # Desativa extensões\n",
    "options.add_argument(\"--disable-infobars\")  # Remove barra de informações do Chrome\n",
    "#options.add_argument(\"--headless\")  # Modo headless (opcional)\n",
    "service = Service(ChromeDriverManager().install())\n",
    "\n",
    "data_hora0 = datetime.datetime.now()\n",
    "data_hora00 = str(data_hora0)\n",
    "print(f\"Hora de início: {str(data_hora0)[0:16]}\")\n",
    "\n",
    "driver = webdriver.Chrome(service=service, options=options)\n",
    "\n",
    "wait = WebDriverWait(driver, 20)\n",
    "driver.maximize_window()\n",
    "\n",
    "driver.get(\"https://plataformabrasil.saude.gov.br/login.jsf\")\n",
    "time.sleep(5)\n",
    "print(\"Abrindo Plataforma Brasil\")\n",
    "titulo = driver.find_element(By.XPATH,'//*[@id=\"j_id27:esqueceuSenha\"]').text\n",
    "while titulo == 'Esqueceu a senha?':\n",
    "    time.sleep(5)\n",
    "    try:\n",
    "        wait.until(EC.element_to_be_clickable((By.XPATH, '//*[@id=\"formModalMensagemAviso:botaoFecharModal\"]'))).click()\n",
    "    except:\n",
    "        pass\n",
    "\n",
    "    driver.find_element(By.XPATH,'//*[@id=\"j_id19:email\"]').clear() # email\n",
    "    driver.find_element(By.XPATH,'//*[@id=\"j_id19:email\"]').send_keys('gabrielcgs12@gmail.com') # email\n",
    "    driver.find_element(By.XPATH,'//*[@id=\"j_id19:senha\"]').clear() # senha\n",
    "    driver.find_element(By.XPATH,'//*[@id=\"j_id19:senha\"]').send_keys('0Dije!c!') # senha\n",
    "       \n",
    "    driver.find_element(By.XPATH, '//*[@id=\"j_id19\"]/input[4]').click() # logar\n",
    "    \n",
    "    try:   \n",
    "        driver.find_element(By.XPATH, '//*[@id=\"formModalMsgUsuarioLogado:idBotaoInvalidarUsuarioLogado\"]').click()\n",
    "    except:\n",
    "        pass\n",
    "    \n",
    "    titulo = len((BeautifulSoup(driver.page_source, 'html.parser')).find(\"div\",id=\"barraSistemaInf\").text)\n",
    "    driver.refresh()\n",
    "print(\"Login realizado com sucesso\")\n"
   ]
  },
  {
   "cell_type": "code",
   "execution_count": null,
   "metadata": {},
   "outputs": [
    {
     "name": "stdout",
     "output_type": "stream",
     "text": [
      "Login bem-sucedido! Elemento encontrado: Gabriel Calazans Gonçalves da Silva\n"
     ]
    }
   ],
   "source": [
    "while True:\n",
    "    try:\n",
    "        elemento = wait.until(EC.presence_of_element_located((By.XPATH, '/html/body/div[2]/div/div[3]/div[1]/strong')))\n",
    "        print(\"Login bem-sucedido! Elemento encontrado:\", elemento.text)\n",
    "        driver.find_element(By.ID,\"gerirPesquisaForm:idSituacoes:11:idItem\").click()\n",
    "        driver.find_element(By.ID,\"gerirPesquisaForm:idSituacoes:14:idItem\").click()\n",
    "        wait.until(EC.element_to_be_clickable((By.XPATH, '//*[@id=\"gerirPesquisaForm:idBtnBuscarProjPesquisa\"]'))).click()\n",
    "        break\n",
    "    except:\n",
    "        print(\"Falha ao verificar o login.\")\n",
    "        time.sleep(1)"
   ]
  },
  {
   "cell_type": "code",
   "execution_count": 12,
   "metadata": {},
   "outputs": [],
   "source": [
    "while pesquisador != \"\":\n",
    "    driver.find_element(By.ID,\"gerirPesquisaForm:idSituacoes:11:idItem\").click()\n",
    "    driver.find_element(By.ID,\"gerirPesquisaForm:idSituacoes:14:idItem\").click()\n",
    "    wait.until(EC.element_to_be_clickable((By.XPATH, '//*[@id=\"gerirPesquisaForm:idBtnBuscarProjPesquisa\"]'))).click()\n",
    "    break"
   ]
  },
  {
   "cell_type": "code",
   "execution_count": null,
   "metadata": {},
   "outputs": [],
   "source": [
    "# baixar python 3.9\n"
   ]
  }
 ],
 "metadata": {
  "kernelspec": {
   "display_name": "Python 3",
   "language": "python",
   "name": "python3"
  },
  "language_info": {
   "codemirror_mode": {
    "name": "ipython",
    "version": 3
   },
   "file_extension": ".py",
   "mimetype": "text/x-python",
   "name": "python",
   "nbconvert_exporter": "python",
   "pygments_lexer": "ipython3",
   "version": "3.12.1"
  }
 },
 "nbformat": 4,
 "nbformat_minor": 2
}
