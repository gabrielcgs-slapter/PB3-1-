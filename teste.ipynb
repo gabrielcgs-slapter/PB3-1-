{
 "cells": [
  {
   "cell_type": "code",
   "execution_count": 2,
   "metadata": {},
   "outputs": [
    {
     "name": "stdout",
     "output_type": "stream",
     "text": [
      "Hora de início: 2025-02-22 23:19\n",
      "Abrindo Plataforma Brasil\n",
      "Login realizado com sucesso\n"
     ]
    }
   ],
   "source": [
    "from webdriver_manager.chrome import ChromeDriverManager\n",
    "from selenium.webdriver.chrome.service import Service\n",
    "from selenium.webdriver.chrome.options import Options\n",
    "from selenium.webdriver.support.ui import WebDriverWait\n",
    "from selenium.webdriver.support import expected_conditions as EC\n",
    "from selenium.webdriver.common.by import By\n",
    "from selenium import webdriver\n",
    "from bs4 import BeautifulSoup\n",
    "import pandas as pd\n",
    "import time\n",
    "from selenium.webdriver.common.keys import Keys\n",
    "import csv\n",
    "import datetime\n",
    "import os\n",
    "import pytz\n",
    "import smtplib\n",
    "import email.message\n",
    "\n",
    "\n",
    "options = Options()\n",
    "options.add_experimental_option(\"detach\", True)  \n",
    "options.add_argument(\"--disable-dev-shm-usage\")  # Melhora estabilidade\n",
    "options.add_argument(\"--disable-extensions\")  # Desativa extensões\n",
    "options.add_argument(\"--disable-infobars\")  # Remove barra de informações do Chrome\n",
    "#options.add_argument(\"--headless\")  # Modo headless (opcional)\n",
    "service = Service(ChromeDriverManager().install())\n",
    "\n",
    "data_hora0 = datetime.datetime.now()\n",
    "data_hora00 = str(data_hora0)\n",
    "print(f\"Hora de início: {str(data_hora0)[0:16]}\")\n",
    "\n",
    "driver = webdriver.Chrome(service=service, options=options)\n",
    "\n",
    "wait = WebDriverWait(driver, 20)\n",
    "driver.maximize_window()\n",
    "\n",
    "driver.get(\"https://plataformabrasil.saude.gov.br/login.jsf\")\n",
    "time.sleep(5)\n",
    "print(\"Abrindo Plataforma Brasil\")\n",
    "titulo = driver.find_element(By.XPATH,'//*[@id=\"j_id27:esqueceuSenha\"]').text\n",
    "while titulo == 'Esqueceu a senha?':\n",
    "    time.sleep(5)\n",
    "    try:\n",
    "        wait.until(EC.element_to_be_clickable((By.XPATH, '//*[@id=\"formModalMensagemAviso:botaoFecharModal\"]'))).click()\n",
    "    except:\n",
    "        pass\n",
    "\n",
    "    driver.find_element(By.XPATH,'//*[@id=\"j_id19:email\"]').clear() # email\n",
    "    driver.find_element(By.XPATH,'//*[@id=\"j_id19:email\"]').send_keys('gabrielcgs12@gmail.com') # email\n",
    "    driver.find_element(By.XPATH,'//*[@id=\"j_id19:senha\"]').clear() # senha\n",
    "    driver.find_element(By.XPATH,'//*[@id=\"j_id19:senha\"]').send_keys('0Dije!c!') # senha\n",
    "       \n",
    "    driver.find_element(By.XPATH, '//*[@id=\"j_id19\"]/input[4]').click() # logar\n",
    "    \n",
    "    try:   \n",
    "        driver.find_element(By.XPATH, '//*[@id=\"formModalMsgUsuarioLogado:idBotaoInvalidarUsuarioLogado\"]').click()\n",
    "    except:\n",
    "        pass\n",
    "    \n",
    "    titulo = len((BeautifulSoup(driver.page_source, 'html.parser')).find(\"div\",id=\"barraSistemaInf\").text)\n",
    "    driver.refresh()\n",
    "print(\"Login realizado com sucesso\")\n"
   ]
  },
  {
   "cell_type": "code",
   "execution_count": null,
   "metadata": {},
   "outputs": [
    {
     "name": "stdout",
     "output_type": "stream",
     "text": [
      "Login bem-sucedido! Elemento encontrado: Gabriel Calazans Gonçalves da Silva\n"
     ]
    }
   ],
   "source": [
    "while True:\n",
    "    try:\n",
    "        elemento = wait.until(EC.presence_of_element_located((By.XPATH, '/html/body/div[2]/div/div[3]/div[1]/strong')))\n",
    "        print(\"Login bem-sucedido! Elemento encontrado:\", elemento.text)\n",
    "        driver.find_element(By.ID,\"gerirPesquisaForm:idSituacoes:11:idItem\").click()\n",
    "        driver.find_element(By.ID,\"gerirPesquisaForm:idSituacoes:14:idItem\").click()\n",
    "        wait.until(EC.element_to_be_clickable((By.XPATH, '//*[@id=\"gerirPesquisaForm:idBtnBuscarProjPesquisa\"]'))).click()\n",
    "        break\n",
    "    except:\n",
    "        print(\"Falha ao verificar o login.\")\n",
    "        time.sleep(1)"
   ]
  },
  {
   "cell_type": "code",
   "execution_count": 12,
   "metadata": {},
   "outputs": [],
   "source": [
    "while pesquisador != \"\":\n",
    "    driver.find_element(By.ID,\"gerirPesquisaForm:idSituacoes:11:idItem\").click()\n",
    "    driver.find_element(By.ID,\"gerirPesquisaForm:idSituacoes:14:idItem\").click()\n",
    "    wait.until(EC.element_to_be_clickable((By.XPATH, '//*[@id=\"gerirPesquisaForm:idBtnBuscarProjPesquisa\"]'))).click()\n",
    "    break"
   ]
  },
  {
   "cell_type": "code",
   "execution_count": null,
   "metadata": {},
   "outputs": [],
   "source": [
    "# baixar python 3.9\n"
   ]
  }
 ],
 "metadata": {
  "kernelspec": {
   "display_name": "Python 3",
   "language": "python",
   "name": "python3"
  },
  "language_info": {
   "codemirror_mode": {
    "name": "ipython",
    "version": 3
   },
   "file_extension": ".py",
   "mimetype": "text/x-python",
   "name": "python",
   "nbconvert_exporter": "python",
   "pygments_lexer": "ipython3",
   "version": "3.9.13"
  }
 },
 "nbformat": 4,
 "nbformat_minor": 2
}
